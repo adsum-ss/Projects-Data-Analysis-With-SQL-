{
 "cells": [
  {
   "cell_type": "markdown",
   "id": "41ced2e7",
   "metadata": {},
   "source": [
    "<div class=\"alert alert-block alert-danger\">\n",
    "    \n",
    "<b>Python DB API</b>\n",
    "    \n",
    "</div>"
   ]
  },
  {
   "cell_type": "markdown",
   "id": "dd48ec75",
   "metadata": {},
   "source": [
    "#### PyODBC"
   ]
  },
  {
   "cell_type": "code",
   "execution_count": 1,
   "id": "aeb7aae4",
   "metadata": {},
   "outputs": [],
   "source": [
    "# pip install pyodbc"
   ]
  },
  {
   "cell_type": "code",
   "execution_count": 2,
   "id": "1db9e1c7",
   "metadata": {},
   "outputs": [],
   "source": [
    "import pyodbc"
   ]
  },
  {
   "cell_type": "code",
   "execution_count": 3,
   "id": "afc91b6f",
   "metadata": {},
   "outputs": [
    {
     "data": {
      "text/plain": [
       "['SQL Server',\n",
       " 'SQL Server Native Client 11.0',\n",
       " 'SQL Server Native Client RDA 11.0',\n",
       " 'ODBC Driver 13 for SQL Server',\n",
       " 'ODBC Driver 17 for SQL Server',\n",
       " 'PostgreSQL ANSI(x64)',\n",
       " 'PostgreSQL Unicode(x64)',\n",
       " 'Microsoft Access Driver (*.mdb, *.accdb)',\n",
       " 'Microsoft Excel Driver (*.xls, *.xlsx, *.xlsm, *.xlsb)',\n",
       " 'Microsoft Access Text Driver (*.txt, *.csv)']"
      ]
     },
     "execution_count": 3,
     "metadata": {},
     "output_type": "execute_result"
    }
   ],
   "source": [
    "pyodbc.drivers()"
   ]
  },
  {
   "cell_type": "markdown",
   "id": "bde7107e",
   "metadata": {},
   "source": [
    "<div class=\"alert alert-block alert-success\">\n",
    "    \n",
    "<b>SQL Server Connection: SQL Server Authentication</b>\n",
    "    \n",
    "</div>"
   ]
  },
  {
   "cell_type": "code",
   "execution_count": 4,
   "id": "6eb9fafb",
   "metadata": {},
   "outputs": [],
   "source": [
    "import pyodbc\n",
    "\n",
    "def create_server_connection(driver, server, database, user, password):\n",
    "    conn = None\n",
    "    try:\n",
    "        conn = pyodbc.connect(DRIVER = driver, SERVER = server, DATABASE = database, UID = user, PWD = password)\n",
    "        print(\"MS SQL Server Database connection successful\")\n",
    "    except Exception as err:\n",
    "        print(f\"Error:\\n'{err}'\")\n",
    "    return conn"
   ]
  },
  {
   "cell_type": "code",
   "execution_count": 5,
   "id": "30a23bb0",
   "metadata": {},
   "outputs": [
    {
     "name": "stdout",
     "output_type": "stream",
     "text": [
      "MS SQL Server Database connection successful\n"
     ]
    }
   ],
   "source": [
    "driver = '{ODBC Driver 17 for SQL Server}'\n",
    "server = 'localhost' \n",
    "database = 'master' \n",
    "user = 'sa'               # system administrator\n",
    "password = '---------'    # your password\n",
    "conn = create_server_connection(driver, server, database, user, password)"
   ]
  },
  {
   "cell_type": "code",
   "execution_count": 6,
   "id": "49f26bbc",
   "metadata": {},
   "outputs": [],
   "source": [
    "conn.close()  # to close the sql server connection"
   ]
  },
  {
   "cell_type": "markdown",
   "id": "d3218a49",
   "metadata": {},
   "source": [
    "<div class=\"alert alert-block alert-success\">\n",
    "    \n",
    "<b>SQL Server Connection: Windows Authentication</b>\n",
    "    \n",
    "</div>"
   ]
  },
  {
   "cell_type": "code",
   "execution_count": 7,
   "id": "4b5124ac",
   "metadata": {},
   "outputs": [],
   "source": [
    "# connecting without password"
   ]
  },
  {
   "cell_type": "code",
   "execution_count": 8,
   "id": "0cf97484",
   "metadata": {},
   "outputs": [],
   "source": [
    "# Method-1\n",
    "\n",
    "conn = pyodbc.connect(\n",
    "       \"driver={SQL Server};\"\n",
    "       \"server=DESKTOP-*****;\"   # sql server, server_name\n",
    "       \"database=SampleSales;\"\n",
    "       \"TRUSTED_CONNECTION=true;\"\n",
    ")\n",
    "\n",
    "\n",
    "csr = conn.cursor()     # We use it to access the data in the database\n",
    "\n",
    "conn.autocommit=True    # It allows the transactions made here to be reflected (commit) to the sql server, \n",
    "                        # if you do not commit, they will not be reflected."
   ]
  },
  {
   "cell_type": "code",
   "execution_count": 9,
   "id": "809ecb97",
   "metadata": {},
   "outputs": [],
   "source": [
    "conn.close()"
   ]
  },
  {
   "cell_type": "code",
   "execution_count": 10,
   "id": "fab94ebb",
   "metadata": {},
   "outputs": [],
   "source": [
    "# Method-2\n",
    "\n",
    "conn_string = \"driver={ODBC Driver 17 for SQL Server}; server=localhost; database=master; TRUSTED_CONNECTION=yes;\"\n",
    "conn = pyodbc.connect(conn_string)\n",
    "csr = conn.cursor()\n",
    "\n",
    "conn.autocommit=True\n",
    "# conn.commit()  --  for desired transactions"
   ]
  },
  {
   "cell_type": "markdown",
   "id": "402b46ce",
   "metadata": {},
   "source": [
    "<div class=\"alert alert-block alert-success\">\n",
    "    \n",
    "<b>Create Database</b>\n",
    "    \n",
    "</div>"
   ]
  },
  {
   "cell_type": "code",
   "execution_count": 11,
   "id": "980dab7c",
   "metadata": {},
   "outputs": [],
   "source": [
    "def create_database (conn, create_db_syntax):\n",
    "    csr = conn.cursor()\n",
    "    try:\n",
    "        csr.execute(create_db_syntax)\n",
    "        print(\"Database Created Succesfully\")\n",
    "    except Exception as err:\n",
    "        print(f\"Error:\\n'{err}'\")"
   ]
  },
  {
   "cell_type": "code",
   "execution_count": 12,
   "id": "4774654d",
   "metadata": {},
   "outputs": [],
   "source": [
    "create_db_syntax = 'CREATE DATABASE SAMPLEDB_1'"
   ]
  },
  {
   "cell_type": "code",
   "execution_count": 13,
   "id": "46cfe054",
   "metadata": {},
   "outputs": [
    {
     "name": "stdout",
     "output_type": "stream",
     "text": [
      "Database Created Succesfully\n"
     ]
    }
   ],
   "source": [
    "create_database(conn, create_db_syntax)"
   ]
  },
  {
   "cell_type": "code",
   "execution_count": 14,
   "id": "12ef2484",
   "metadata": {},
   "outputs": [],
   "source": [
    "def execute_query(conn, query):\n",
    "    csr = conn.cursor()\n",
    "    try:\n",
    "        csr.execute(query)\n",
    "        # conn.commit()\n",
    "        print(\"Query Successful!\")\n",
    "    except Exception as err:\n",
    "        print(f\"Error:\\n'{err}'\")"
   ]
  },
  {
   "cell_type": "code",
   "execution_count": 15,
   "id": "304f56ad",
   "metadata": {},
   "outputs": [],
   "source": [
    "query = 'USE SAMPLEDB_1'"
   ]
  },
  {
   "cell_type": "code",
   "execution_count": 16,
   "id": "7be7b38b",
   "metadata": {},
   "outputs": [
    {
     "name": "stdout",
     "output_type": "stream",
     "text": [
      "Query Successful!\n"
     ]
    }
   ],
   "source": [
    "execute_query(conn, query)"
   ]
  },
  {
   "cell_type": "markdown",
   "id": "e8ca8c51",
   "metadata": {},
   "source": [
    "### ***Create Table***"
   ]
  },
  {
   "cell_type": "code",
   "execution_count": 17,
   "id": "026e5ce0",
   "metadata": {},
   "outputs": [],
   "source": [
    "query = 'CREATE TABLE TestA (\\\n",
    "           ID INT IDENTITY (1,1) NOT NULL, \\\n",
    "           FirstName VARCHAR(255) NOT NULL,\\\n",
    "           LastName VARCHAR(255) NOT NULL,\\\n",
    "           PRIMARY KEY(ID))'"
   ]
  },
  {
   "cell_type": "code",
   "execution_count": 18,
   "id": "01ccce85",
   "metadata": {},
   "outputs": [
    {
     "name": "stdout",
     "output_type": "stream",
     "text": [
      "Query Successful!\n"
     ]
    }
   ],
   "source": [
    "execute_query(conn, query)"
   ]
  },
  {
   "cell_type": "markdown",
   "id": "213b487a",
   "metadata": {},
   "source": [
    "### ***Insert Values***"
   ]
  },
  {
   "cell_type": "code",
   "execution_count": 19,
   "id": "94e07ec6",
   "metadata": {},
   "outputs": [
    {
     "data": {
      "text/plain": [
       "<pyodbc.Cursor at 0x1e1e2970f30>"
      ]
     },
     "execution_count": 19,
     "metadata": {},
     "output_type": "execute_result"
    }
   ],
   "source": [
    "csr.execute(\"INSERT TestA (FirstName, LastName) VALUES ('Bob', 'Marley')\")\n",
    "\n",
    "# conn.commit() -- if we didn't execute conn.autocommit=True"
   ]
  },
  {
   "cell_type": "code",
   "execution_count": 20,
   "id": "cdcbd5e5",
   "metadata": {},
   "outputs": [
    {
     "data": {
      "text/plain": [
       "<pyodbc.Cursor at 0x1e1e2970f30>"
      ]
     },
     "execution_count": 20,
     "metadata": {},
     "output_type": "execute_result"
    }
   ],
   "source": [
    "# parameterized\n",
    "\n",
    "csr.execute(\"INSERT TestA (FirstName, LastName) VALUES (?,?)\",'Bruce', 'Lee')"
   ]
  },
  {
   "cell_type": "code",
   "execution_count": 21,
   "id": "628898b1",
   "metadata": {},
   "outputs": [
    {
     "data": {
      "text/plain": [
       "<pyodbc.Cursor at 0x1e1e2970f30>"
      ]
     },
     "execution_count": 21,
     "metadata": {},
     "output_type": "execute_result"
    }
   ],
   "source": [
    "csr.execute(\"INSERT TestA (FirstName, LastName) VALUES (?,?)\",'Tom', 'Hanks')\n",
    "csr.execute(\"INSERT TestA (FirstName, LastName) VALUES (?,?)\",'Bart', 'Simpson')"
   ]
  },
  {
   "cell_type": "code",
   "execution_count": 22,
   "id": "75ccb6b9",
   "metadata": {},
   "outputs": [
    {
     "data": {
      "text/plain": [
       "<pyodbc.Cursor at 0x1e1e2970f30>"
      ]
     },
     "execution_count": 22,
     "metadata": {},
     "output_type": "execute_result"
    }
   ],
   "source": [
    "csr.execute(\"INSERT TestA (FirstName, LastName) VALUES (?,?)\",'Tom', 'Cat')\n",
    "csr.execute(\"INSERT TestA (FirstName, LastName) VALUES (?,?)\",'Jerry', 'Mouse')\n",
    "csr.execute(\"INSERT TestA (FirstName, LastName) VALUES (?,?)\",'Owen', 'William')\n",
    "csr.execute(\"INSERT TestA (FirstName, LastName) VALUES (?,?)\",'Stefan', 'Müller')"
   ]
  },
  {
   "cell_type": "code",
   "execution_count": 23,
   "id": "96cb572f",
   "metadata": {},
   "outputs": [
    {
     "data": {
      "text/plain": [
       "[(1, 'Bob', 'Marley'),\n",
       " (2, 'Bruce', 'Lee'),\n",
       " (3, 'Tom', 'Hanks'),\n",
       " (4, 'Bart', 'Simpson'),\n",
       " (5, 'Tom', 'Cat'),\n",
       " (6, 'Jerry', 'Mouse'),\n",
       " (7, 'Owen', 'William'),\n",
       " (8, 'Stefan', 'Müller')]"
      ]
     },
     "execution_count": 23,
     "metadata": {},
     "output_type": "execute_result"
    }
   ],
   "source": [
    "csr.execute(\"SELECT * FROM TestA\").fetchall()"
   ]
  },
  {
   "cell_type": "markdown",
   "id": "2ca430d8",
   "metadata": {},
   "source": [
    "### ***Updating and Deleting with rowcount***"
   ]
  },
  {
   "cell_type": "code",
   "execution_count": 24,
   "id": "55d31c1c",
   "metadata": {},
   "outputs": [
    {
     "name": "stdout",
     "output_type": "stream",
     "text": [
      "1 row(s) deleted\n"
     ]
    }
   ],
   "source": [
    "csr.execute(\"DELETE FROM TestA WHERE FirstName = 'Jerry'\")\n",
    "print(csr.rowcount, 'row(s) deleted')"
   ]
  },
  {
   "cell_type": "code",
   "execution_count": 25,
   "id": "d49255a6",
   "metadata": {},
   "outputs": [
    {
     "name": "stdout",
     "output_type": "stream",
     "text": [
      "1 row(s) deleted\n"
     ]
    }
   ],
   "source": [
    "deleted = csr.execute(\"DELETE FROM TestA WHERE FirstName = ?\", 'Stefan').rowcount\n",
    "print(deleted, 'row(s) deleted')"
   ]
  },
  {
   "cell_type": "code",
   "execution_count": 26,
   "id": "9bbe386b",
   "metadata": {},
   "outputs": [
    {
     "data": {
      "text/plain": [
       "[(1, 'Bob', 'Marley'),\n",
       " (2, 'Bruce', 'Lee'),\n",
       " (3, 'Tom', 'Hanks'),\n",
       " (4, 'Bart', 'Simpson'),\n",
       " (5, 'Tom', 'Cat'),\n",
       " (7, 'Owen', 'William')]"
      ]
     },
     "execution_count": 26,
     "metadata": {},
     "output_type": "execute_result"
    }
   ],
   "source": [
    "csr.execute(\"SELECT * FROM TestA\").fetchall()"
   ]
  },
  {
   "cell_type": "code",
   "execution_count": 27,
   "id": "b699189f",
   "metadata": {},
   "outputs": [
    {
     "name": "stdout",
     "output_type": "stream",
     "text": [
      "1 row(s) updated\n"
     ]
    }
   ],
   "source": [
    "csr.execute(\"UPDATE TestA SET FirstName='Natalie', LastName='Portman' WHERE ID=5\")\n",
    "\n",
    "print(csr.rowcount, 'row(s) updated')"
   ]
  },
  {
   "cell_type": "code",
   "execution_count": 28,
   "id": "d4731f42",
   "metadata": {},
   "outputs": [
    {
     "data": {
      "text/plain": [
       "[(1, 'Bob', 'Marley'),\n",
       " (2, 'Bruce', 'Lee'),\n",
       " (3, 'Tom', 'Hanks'),\n",
       " (4, 'Bart', 'Simpson'),\n",
       " (5, 'Natalie', 'Portman'),\n",
       " (7, 'Owen', 'William')]"
      ]
     },
     "execution_count": 28,
     "metadata": {},
     "output_type": "execute_result"
    }
   ],
   "source": [
    "csr.execute(\"SELECT * FROM TestA\").fetchall()"
   ]
  },
  {
   "cell_type": "markdown",
   "id": "ce74828d",
   "metadata": {},
   "source": [
    "<div class=\"alert alert-block alert-success\">\n",
    "    \n",
    "<b>Reading Data</b>\n",
    "    \n",
    "</div>"
   ]
  },
  {
   "cell_type": "markdown",
   "id": "0e4a0567",
   "metadata": {},
   "source": [
    "All SQL statements are executed using the Cursor execute() function. If the statement returns rows, such as a select statement, you can retrieve them using the Cursor fetch functions - fetchone(), fetchall(), fetchmany(). If there are no rows, fetchone() will return None, whereas fetchall() and fetchmany() will both return empty lists."
   ]
  },
  {
   "cell_type": "markdown",
   "id": "2d3015b2",
   "metadata": {},
   "source": [
    "### ***fetchone***"
   ]
  },
  {
   "cell_type": "code",
   "execution_count": 29,
   "id": "682daa31",
   "metadata": {},
   "outputs": [
    {
     "data": {
      "text/plain": [
       "<pyodbc.Cursor at 0x1e1e2970f30>"
      ]
     },
     "execution_count": 29,
     "metadata": {},
     "output_type": "execute_result"
    }
   ],
   "source": [
    "csr.execute('SELECT FirstName, LastName FROM TestA')"
   ]
  },
  {
   "cell_type": "code",
   "execution_count": 30,
   "id": "a8b2b4a5",
   "metadata": {},
   "outputs": [
    {
     "data": {
      "text/plain": [
       "('Bob', 'Marley')"
      ]
     },
     "execution_count": 30,
     "metadata": {},
     "output_type": "execute_result"
    }
   ],
   "source": [
    "row = csr.fetchone()  # it returns the first record of the table\n",
    "row"
   ]
  },
  {
   "cell_type": "code",
   "execution_count": 31,
   "id": "c822053b",
   "metadata": {},
   "outputs": [
    {
     "data": {
      "text/plain": [
       "('Bruce', 'Lee')"
      ]
     },
     "execution_count": 31,
     "metadata": {},
     "output_type": "execute_result"
    }
   ],
   "source": [
    "row = csr.fetchone()  # it returns the next record of the table\n",
    "row"
   ]
  },
  {
   "cell_type": "code",
   "execution_count": 32,
   "id": "86959790",
   "metadata": {},
   "outputs": [],
   "source": [
    "# The fetchone() function returns None when all rows have been retrieved."
   ]
  },
  {
   "cell_type": "code",
   "execution_count": 33,
   "id": "18cbae37",
   "metadata": {},
   "outputs": [
    {
     "data": {
      "text/plain": [
       "'Bruce'"
      ]
     },
     "execution_count": 33,
     "metadata": {},
     "output_type": "execute_result"
    }
   ],
   "source": [
    "row.FirstName"
   ]
  },
  {
   "cell_type": "code",
   "execution_count": 34,
   "id": "f3f99ba7",
   "metadata": {},
   "outputs": [
    {
     "data": {
      "text/plain": [
       "'Lee'"
      ]
     },
     "execution_count": 34,
     "metadata": {},
     "output_type": "execute_result"
    }
   ],
   "source": [
    "row.LastName"
   ]
  },
  {
   "cell_type": "code",
   "execution_count": 35,
   "id": "61a6e27b",
   "metadata": {},
   "outputs": [
    {
     "name": "stdout",
     "output_type": "stream",
     "text": [
      "LastName: Marley\n",
      "LastName: Marley\n"
     ]
    }
   ],
   "source": [
    "csr.execute('select FirstName, LastName from TestA')\n",
    "row = csr.fetchone()\n",
    "\n",
    "print('LastName:', row[1])         # access by column index (zero-based)\n",
    "print('LastName:', row.LastName)   # access by name"
   ]
  },
  {
   "cell_type": "code",
   "execution_count": 36,
   "id": "220f8640",
   "metadata": {},
   "outputs": [
    {
     "name": "stdout",
     "output_type": "stream",
     "text": [
      "FirstName: Bob\n",
      "FirstName: Bruce\n",
      "FirstName: Tom\n",
      "FirstName: Bart\n",
      "FirstName: Natalie\n",
      "FirstName: Owen\n"
     ]
    }
   ],
   "source": [
    "csr.execute('select FirstName, LastName from TestA')\n",
    "while True:\n",
    "    row = csr.fetchone()\n",
    "    if not row:\n",
    "        break\n",
    "    print('FirstName:', row.FirstName)"
   ]
  },
  {
   "cell_type": "code",
   "execution_count": 37,
   "id": "91ff6f64",
   "metadata": {},
   "outputs": [
    {
     "name": "stdout",
     "output_type": "stream",
     "text": [
      "Bob Marley\n",
      "Bruce Lee\n",
      "Tom Hanks\n",
      "Bart Simpson\n",
      "Natalie Portman\n",
      "Owen William\n"
     ]
    }
   ],
   "source": [
    "csr.execute('select FirstName, LastName from TestA')\n",
    "rows = csr.fetchall()\n",
    "\n",
    "for row in rows:\n",
    "    print(row.FirstName, row.LastName)"
   ]
  },
  {
   "cell_type": "code",
   "execution_count": 38,
   "id": "a0e833fc",
   "metadata": {},
   "outputs": [
    {
     "name": "stdout",
     "output_type": "stream",
     "text": [
      "('Natalie', 'Portman')\n"
     ]
    }
   ],
   "source": [
    "# parameters\n",
    "\n",
    "csr.execute(\"\"\" select FirstName, LastName from TestA where FirstName = ? and LastName = ? \"\"\", ['Natalie', 'Portman'])\n",
    "row = csr.fetchone()\n",
    "\n",
    "if row:\n",
    "    print(row)"
   ]
  },
  {
   "cell_type": "code",
   "execution_count": 39,
   "id": "e0643b77",
   "metadata": {},
   "outputs": [
    {
     "name": "stdout",
     "output_type": "stream",
     "text": [
      "6 users\n"
     ]
    }
   ],
   "source": [
    "row = csr.execute(\"select count(*) as user_count from TestA\").fetchone()\n",
    "\n",
    "print('%s users' % row.user_count)"
   ]
  },
  {
   "cell_type": "markdown",
   "id": "fb4ab60d",
   "metadata": {},
   "source": [
    "### ***fetchall***"
   ]
  },
  {
   "cell_type": "code",
   "execution_count": 40,
   "id": "0a71dbf7",
   "metadata": {},
   "outputs": [
    {
     "data": {
      "text/plain": [
       "[(1, 'Bob', 'Marley'),\n",
       " (2, 'Bruce', 'Lee'),\n",
       " (3, 'Tom', 'Hanks'),\n",
       " (4, 'Bart', 'Simpson'),\n",
       " (5, 'Natalie', 'Portman'),\n",
       " (7, 'Owen', 'William')]"
      ]
     },
     "execution_count": 40,
     "metadata": {},
     "output_type": "execute_result"
    }
   ],
   "source": [
    "csr.execute(\"SELECT * FROM TestA\").fetchall()"
   ]
  },
  {
   "cell_type": "code",
   "execution_count": 41,
   "id": "17369dfb",
   "metadata": {},
   "outputs": [
    {
     "data": {
      "text/plain": [
       "[(1, 'Bob', 'Marley'),\n",
       " (2, 'Bruce', 'Lee'),\n",
       " (3, 'Tom', 'Hanks'),\n",
       " (4, 'Bart', 'Simpson'),\n",
       " (5, 'Natalie', 'Portman'),\n",
       " (7, 'Owen', 'William')]"
      ]
     },
     "execution_count": 41,
     "metadata": {},
     "output_type": "execute_result"
    }
   ],
   "source": [
    "csr.execute('SELECT ID, FirstName, LastName FROM TestA')\n",
    "rows = csr.fetchall()\n",
    "rows"
   ]
  },
  {
   "cell_type": "code",
   "execution_count": 42,
   "id": "e7a94320",
   "metadata": {},
   "outputs": [
    {
     "data": {
      "text/plain": [
       "[(1, 'Bob', 'Marley'),\n",
       " (2, 'Bruce', 'Lee'),\n",
       " (3, 'Tom', 'Hanks'),\n",
       " (4, 'Bart', 'Simpson'),\n",
       " (5, 'Natalie', 'Portman'),\n",
       " (7, 'Owen', 'William')]"
      ]
     },
     "execution_count": 42,
     "metadata": {},
     "output_type": "execute_result"
    }
   ],
   "source": [
    "csr.execute(\"\"\"SELECT ID, FirstName, LastName \n",
    "                FROM TestA\"\"\")\n",
    "rows = csr.fetchall()\n",
    "rows"
   ]
  },
  {
   "cell_type": "code",
   "execution_count": 43,
   "id": "05347eb0",
   "metadata": {},
   "outputs": [
    {
     "name": "stdout",
     "output_type": "stream",
     "text": [
      "1 Bob Marley\n",
      "2 Bruce Lee\n",
      "3 Tom Hanks\n",
      "4 Bart Simpson\n",
      "5 Natalie Portman\n",
      "7 Owen William\n"
     ]
    }
   ],
   "source": [
    "for row in rows:\n",
    "    print(row.ID, row.FirstName, row.LastName)"
   ]
  },
  {
   "cell_type": "code",
   "execution_count": 44,
   "id": "9947c5af",
   "metadata": {},
   "outputs": [
    {
     "data": {
      "text/plain": [
       "[(7, 'Owen', 'William')]"
      ]
     },
     "execution_count": 44,
     "metadata": {},
     "output_type": "execute_result"
    }
   ],
   "source": [
    "# parameterized\n",
    "\n",
    "csr.execute(\"\"\"SELECT ID, FirstName, LastName\n",
    "               FROM TestA\n",
    "               WHERE FirstName = ? and LastName = ?\"\"\", ['Owen', 'William'])\n",
    "rows = csr.fetchall()\n",
    "rows"
   ]
  },
  {
   "cell_type": "markdown",
   "id": "f5bc66e4",
   "metadata": {},
   "source": [
    "### ***fetchmany***"
   ]
  },
  {
   "cell_type": "code",
   "execution_count": 45,
   "id": "f9badf2a",
   "metadata": {},
   "outputs": [
    {
     "data": {
      "text/plain": [
       "[(1, 'Bob', 'Marley'), (2, 'Bruce', 'Lee')]"
      ]
     },
     "execution_count": 45,
     "metadata": {},
     "output_type": "execute_result"
    }
   ],
   "source": [
    "csr.execute(\"\"\"SELECT ID, FirstName, LastName\n",
    "               FROM TestA\"\"\")\n",
    "rows = csr.fetchmany(2)\n",
    "rows"
   ]
  },
  {
   "cell_type": "code",
   "execution_count": 46,
   "id": "beb48ee5",
   "metadata": {},
   "outputs": [
    {
     "data": {
      "text/plain": [
       "[(1, 'Bob', 'Marley'),\n",
       " (2, 'Bruce', 'Lee'),\n",
       " (3, 'Tom', 'Hanks'),\n",
       " (4, 'Bart', 'Simpson'),\n",
       " (5, 'Natalie', 'Portman'),\n",
       " (7, 'Owen', 'William')]"
      ]
     },
     "execution_count": 46,
     "metadata": {},
     "output_type": "execute_result"
    }
   ],
   "source": [
    "csr.execute(\"\"\"SELECT ID, FirstName, LastName\n",
    "               FROM TestA\"\"\")\n",
    "rows = csr.fetchmany(100)\n",
    "rows"
   ]
  },
  {
   "cell_type": "markdown",
   "id": "a6582b05",
   "metadata": {},
   "source": [
    "### ***fetchval***"
   ]
  },
  {
   "cell_type": "markdown",
   "id": "a91593ad",
   "metadata": {},
   "source": [
    "If you are selecting a single value you can use the fetchval convenience method.\n",
    "\n",
    "If the statement generates a row, it returns the value of the first column of the first row. If there are no rows, None is returned"
   ]
  },
  {
   "cell_type": "code",
   "execution_count": 47,
   "id": "99479025",
   "metadata": {},
   "outputs": [
    {
     "data": {
      "text/plain": [
       "6"
      ]
     },
     "execution_count": 47,
     "metadata": {},
     "output_type": "execute_result"
    }
   ],
   "source": [
    "row_count = csr.execute(\"SELECT COUNT(*) FROM TestA\").fetchone()[0]\n",
    "row_count"
   ]
  },
  {
   "cell_type": "code",
   "execution_count": 48,
   "id": "0d026f64",
   "metadata": {},
   "outputs": [
    {
     "data": {
      "text/plain": [
       "6"
      ]
     },
     "execution_count": 48,
     "metadata": {},
     "output_type": "execute_result"
    }
   ],
   "source": [
    "row_count = csr.execute(\"SELECT COUNT(*) FROM TestA\").fetchval()\n",
    "row_count"
   ]
  },
  {
   "cell_type": "code",
   "execution_count": 49,
   "id": "2964da49",
   "metadata": {},
   "outputs": [
    {
     "data": {
      "text/plain": [
       "7"
      ]
     },
     "execution_count": 49,
     "metadata": {},
     "output_type": "execute_result"
    }
   ],
   "source": [
    "csr.execute(\"SELECT MAX(ID) FROM TestA\").fetchval()"
   ]
  },
  {
   "cell_type": "code",
   "execution_count": 50,
   "id": "77906f0f",
   "metadata": {},
   "outputs": [
    {
     "data": {
      "text/plain": [
       "'Bob'"
      ]
     },
     "execution_count": 50,
     "metadata": {},
     "output_type": "execute_result"
    }
   ],
   "source": [
    "csr.execute(\"SELECT FirstName FROM TestA\").fetchval()"
   ]
  },
  {
   "cell_type": "code",
   "execution_count": 51,
   "id": "439be612",
   "metadata": {},
   "outputs": [
    {
     "data": {
      "text/plain": [
       "'Bob'"
      ]
     },
     "execution_count": 51,
     "metadata": {},
     "output_type": "execute_result"
    }
   ],
   "source": [
    "csr.execute(\"SELECT FirstName, LastName FROM TestA\").fetchval()"
   ]
  },
  {
   "cell_type": "code",
   "execution_count": 52,
   "id": "63911f99",
   "metadata": {},
   "outputs": [
    {
     "data": {
      "text/plain": [
       "1"
      ]
     },
     "execution_count": 52,
     "metadata": {},
     "output_type": "execute_result"
    }
   ],
   "source": [
    "csr.execute(\"SELECT * FROM TestA\").fetchval()"
   ]
  },
  {
   "cell_type": "markdown",
   "id": "b4d1864d",
   "metadata": {},
   "source": [
    "### ***fetchone vs fetchval***"
   ]
  },
  {
   "cell_type": "code",
   "execution_count": 53,
   "id": "2ae1e228",
   "metadata": {},
   "outputs": [
    {
     "data": {
      "text/plain": [
       "0"
      ]
     },
     "execution_count": 53,
     "metadata": {},
     "output_type": "execute_result"
    }
   ],
   "source": [
    "csr.execute(\"select coalesce(max(ID), 0) from TestA where FirstName = 'Eeee'\").fetchone()[0]"
   ]
  },
  {
   "cell_type": "code",
   "execution_count": 54,
   "id": "a27655d0",
   "metadata": {},
   "outputs": [
    {
     "data": {
      "text/plain": [
       "0"
      ]
     },
     "execution_count": 54,
     "metadata": {},
     "output_type": "execute_result"
    }
   ],
   "source": [
    "csr.execute(\"select coalesce(count(*), 0) from TestA where FirstName = 'Eeee'\").fetchone()[0]"
   ]
  },
  {
   "cell_type": "markdown",
   "id": "d30df592",
   "metadata": {},
   "source": [
    "fetchval is a better choice if the statement can return an empty set"
   ]
  },
  {
   "cell_type": "code",
   "execution_count": 55,
   "id": "6386df72",
   "metadata": {},
   "outputs": [
    {
     "ename": "TypeError",
     "evalue": "'NoneType' object is not subscriptable",
     "output_type": "error",
     "traceback": [
      "\u001b[1;31m---------------------------------------------------------------------------\u001b[0m",
      "\u001b[1;31mTypeError\u001b[0m                                 Traceback (most recent call last)",
      "\u001b[1;32m~\\AppData\\Local\\Temp/ipykernel_24544/2372452696.py\u001b[0m in \u001b[0;36m<module>\u001b[1;34m\u001b[0m\n\u001b[0;32m      1\u001b[0m \u001b[1;31m# be careful!\u001b[0m\u001b[1;33m\u001b[0m\u001b[1;33m\u001b[0m\u001b[1;33m\u001b[0m\u001b[0m\n\u001b[0;32m      2\u001b[0m \u001b[1;33m\u001b[0m\u001b[0m\n\u001b[1;32m----> 3\u001b[1;33m \u001b[0mcsr\u001b[0m\u001b[1;33m.\u001b[0m\u001b[0mexecute\u001b[0m\u001b[1;33m(\u001b[0m\u001b[1;34m\"\"\"select FirstName from TestA where FirstName = 'Eeee'\"\"\"\u001b[0m\u001b[1;33m)\u001b[0m\u001b[1;33m.\u001b[0m\u001b[0mfetchone\u001b[0m\u001b[1;33m(\u001b[0m\u001b[1;33m)\u001b[0m\u001b[1;33m[\u001b[0m\u001b[1;36m0\u001b[0m\u001b[1;33m]\u001b[0m\u001b[1;33m\u001b[0m\u001b[1;33m\u001b[0m\u001b[0m\n\u001b[0m",
      "\u001b[1;31mTypeError\u001b[0m: 'NoneType' object is not subscriptable"
     ]
    }
   ],
   "source": [
    "# be careful!\n",
    "\n",
    "csr.execute(\"\"\"select FirstName from TestA where FirstName = 'Eeee'\"\"\").fetchone()[0]"
   ]
  },
  {
   "cell_type": "markdown",
   "id": "e6d09785",
   "metadata": {},
   "source": [
    "***The fetchone() call returns None. Python then attempts to apply [0] to the result (None[0]) which is not valid.***"
   ]
  },
  {
   "cell_type": "code",
   "execution_count": 56,
   "id": "55a388bf",
   "metadata": {},
   "outputs": [],
   "source": [
    "# Preferred\n",
    "\n",
    "csr.execute(\"\"\"select FirstName from TestA where FirstName = 'Eeee'\"\"\").fetchval()"
   ]
  },
  {
   "cell_type": "markdown",
   "id": "55bda383",
   "metadata": {},
   "source": [
    "***The fetchval method was created just for this situation - it will detect the fact that there are no rows and will return None.***"
   ]
  },
  {
   "cell_type": "markdown",
   "id": "a34944f9",
   "metadata": {},
   "source": [
    "***"
   ]
  },
  {
   "cell_type": "markdown",
   "id": "2f81e438",
   "metadata": {},
   "source": [
    "<div class=\"alert alert-block alert-success\">\n",
    "    \n",
    "<b>Connecting Different Databases</b>\n",
    "    \n",
    "</div>"
   ]
  },
  {
   "cell_type": "code",
   "execution_count": 57,
   "id": "d9403186",
   "metadata": {},
   "outputs": [],
   "source": [
    "query = 'USE SampleSales'"
   ]
  },
  {
   "cell_type": "code",
   "execution_count": 58,
   "id": "f7416207",
   "metadata": {},
   "outputs": [
    {
     "data": {
      "text/plain": [
       "<pyodbc.Cursor at 0x1e1e2970f30>"
      ]
     },
     "execution_count": 58,
     "metadata": {},
     "output_type": "execute_result"
    }
   ],
   "source": [
    "csr.execute(query)"
   ]
  },
  {
   "cell_type": "code",
   "execution_count": 59,
   "id": "daca3daa",
   "metadata": {},
   "outputs": [
    {
     "data": {
      "text/plain": [
       "[(1, 'Electra'),\n",
       " (2, 'Haro'),\n",
       " (3, 'Redline'),\n",
       " (4, 'Cannondale'),\n",
       " (5, 'Schwinn'),\n",
       " (6, 'Giant'),\n",
       " (7, 'Sun Bicycles'),\n",
       " (8, 'Surly'),\n",
       " (9, 'Trek')]"
      ]
     },
     "execution_count": 59,
     "metadata": {},
     "output_type": "execute_result"
    }
   ],
   "source": [
    "csr.execute(\"SELECT * FROM product.brand\").fetchall()"
   ]
  },
  {
   "cell_type": "code",
   "execution_count": 61,
   "id": "6bb8bcf7",
   "metadata": {},
   "outputs": [
    {
     "data": {
      "text/plain": [
       "[(1, 'Children Bicycles'),\n",
       " (2, 'Comfort Bicycles'),\n",
       " (3, 'Cruisers Bicycles'),\n",
       " (4, 'Cyclocross Bicycles'),\n",
       " (5, 'Electric Bikes'),\n",
       " (6, 'Mountain Bikes'),\n",
       " (7, 'Road Bikes')]"
      ]
     },
     "execution_count": 61,
     "metadata": {},
     "output_type": "execute_result"
    }
   ],
   "source": [
    "csr.execute(\"SELECT * FROM product.category\").fetchall()"
   ]
  },
  {
   "cell_type": "code",
   "execution_count": 62,
   "id": "94ef5a09",
   "metadata": {},
   "outputs": [],
   "source": [
    "query =  \"\"\"SELECT * FROM\n",
    " (\n",
    "     SELECT brand_name, category_name, CAST(list_price AS INT) AS ListPrice \n",
    "     FROM product.product AS P, product.brand AS B, product.category AS C\n",
    "     WHERE P.brand_id=B.brand_id AND P.category_id=C.category_id\n",
    " ) AS SubQ1\n",
    " PIVOT\n",
    " (\n",
    "     AVG(ListPrice)\n",
    "     FOR brand_name\n",
    "     IN([Trek],[Schwinn],[Surly],[Redline],[Electra],[Cannondale],[Haro],[Sun Bicycles],[Giant])\n",
    " ) AS CategoryBrandPrices\"\"\""
   ]
  },
  {
   "cell_type": "code",
   "execution_count": 63,
   "id": "586183fe",
   "metadata": {},
   "outputs": [
    {
     "data": {
      "text/plain": [
       "[('Children Bicycles', 259, None, None, None, 329, None, 249, 109, 209),\n",
       " ('Comfort Bicycles', None, None, None, None, 771, None, None, 470, None),\n",
       " ('Cruisers Bicycles', None, 749, None, None, 785, None, None, 482, None),\n",
       " ('Cyclocross Bicycles', 3182, None, 1581, None, None, None, None, None, None),\n",
       " ('Electric Bikes', 3510, None, None, None, 2799, None, None, 1559, None),\n",
       " ('Mountain Bikes', 1925, None, 1302, 2172, None, None, 869, 832, None),\n",
       " ('Road Bikes', 3429, None, 1245, None, None, 442, None, None, None)]"
      ]
     },
     "execution_count": 63,
     "metadata": {},
     "output_type": "execute_result"
    }
   ],
   "source": [
    "csr.execute(query).fetchall()"
   ]
  },
  {
   "cell_type": "code",
   "execution_count": 64,
   "id": "03f69149",
   "metadata": {},
   "outputs": [],
   "source": [
    "query = \"\"\"SELECT  \n",
    "                RIGHT(email, LEN(email)-CHARINDEX('@', email)) AS DomainType,\n",
    "                COUNT(RIGHT(email, LEN(email)-CHARINDEX('@', email))) AS NumofDomains\n",
    "           FROM \n",
    "                sale.customer\n",
    "           GROUP BY\n",
    "                RIGHT(email, LEN(email)-CHARINDEX('@', email))\n",
    "           ORDER BY\n",
    "                NumofDomains DESC;\"\"\""
   ]
  },
  {
   "cell_type": "code",
   "execution_count": 65,
   "id": "5dd2d566",
   "metadata": {},
   "outputs": [
    {
     "data": {
      "text/plain": [
       "[('gmail.com', 305),\n",
       " ('yahoo.com', 305),\n",
       " ('msn.com', 291),\n",
       " ('aol.com', 275),\n",
       " ('hotmail.com', 269)]"
      ]
     },
     "execution_count": 65,
     "metadata": {},
     "output_type": "execute_result"
    }
   ],
   "source": [
    "csr.execute(query).fetchall()"
   ]
  },
  {
   "cell_type": "code",
   "execution_count": 66,
   "id": "23eeba75",
   "metadata": {},
   "outputs": [],
   "source": [
    "conn.close()"
   ]
  },
  {
   "cell_type": "code",
   "execution_count": null,
   "id": "fa980427",
   "metadata": {},
   "outputs": [],
   "source": []
  }
 ],
 "metadata": {
  "kernelspec": {
   "display_name": "Python 3 (ipykernel)",
   "language": "python",
   "name": "python3"
  },
  "language_info": {
   "codemirror_mode": {
    "name": "ipython",
    "version": 3
   },
   "file_extension": ".py",
   "mimetype": "text/x-python",
   "name": "python",
   "nbconvert_exporter": "python",
   "pygments_lexer": "ipython3",
   "version": "3.9.6"
  }
 },
 "nbformat": 4,
 "nbformat_minor": 5
}
